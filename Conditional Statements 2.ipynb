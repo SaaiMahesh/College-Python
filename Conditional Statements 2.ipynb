{
 "cells": [
  {
   "cell_type": "code",
   "execution_count": 3,
   "id": "3c739a6d",
   "metadata": {},
   "outputs": [
    {
     "name": "stdout",
     "output_type": "stream",
     "text": [
      "value of x= 10 y= 7.8\n"
     ]
    }
   ],
   "source": [
    "x=10\n",
    "y=7.8\n",
    "print(\"value of x=\",x,\"y=\",y)"
   ]
  },
  {
   "cell_type": "code",
   "execution_count": 4,
   "id": "595fd622",
   "metadata": {},
   "outputs": [
    {
     "name": "stdout",
     "output_type": "stream",
     "text": [
      "value of x is 10 and y is 7.800000\n"
     ]
    }
   ],
   "source": [
    "print(\"value of x is %d and y is %f\" %(x,y)) # %d is used for integer variable, %f is used for float"
   ]
  },
  {
   "cell_type": "code",
   "execution_count": 5,
   "id": "70e44dd1",
   "metadata": {},
   "outputs": [
    {
     "name": "stdout",
     "output_type": "stream",
     "text": [
      "value of x is 10 and y is 7.80\n"
     ]
    }
   ],
   "source": [
    "print(\"value of x is %d and y is %.2f\" %(x,y)) # .2 means 2 decimal places "
   ]
  },
  {
   "cell_type": "code",
   "execution_count": 6,
   "id": "d687b025",
   "metadata": {},
   "outputs": [
    {
     "name": "stdout",
     "output_type": "stream",
     "text": [
      "value of x is 10 and y is 7.80\n"
     ]
    }
   ],
   "source": [
    "print(\"value of x is %d and y is %4.2f\" %(x,y))"
   ]
  },
  {
   "cell_type": "code",
   "execution_count": 7,
   "id": "7ae3d4fc",
   "metadata": {},
   "outputs": [],
   "source": [
    "# conditional statements \n",
    "# if\n",
    "# if-else\n",
    "# simple if\n",
    "x=5\n",
    "if x>10:\n",
    "    print(\"x is larger\")\n",
    "# if x<7:\n",
    "#    print(\"x is smaller\")\n",
    "    "
   ]
  },
  {
   "cell_type": "code",
   "execution_count": 9,
   "id": "55bff409",
   "metadata": {},
   "outputs": [
    {
     "name": "stdout",
     "output_type": "stream",
     "text": [
      "enter first number12\n",
      "enter second number13\n",
      "13 is greater than 12\n"
     ]
    }
   ],
   "source": [
    "# if-else\n",
    "num1=int(input(\"enter first number\"))\n",
    "num2=int(input(\"enter second number\"))\n",
    "if num1>num2:\n",
    "    \n",
    "    print(\"%d is greater than %d\" %(num1, num2))\n",
    "else:\n",
    "    print(\"%d is greater than %d\" %(num2, num1))"
   ]
  },
  {
   "cell_type": "code",
   "execution_count": 12,
   "id": "e35612b2",
   "metadata": {},
   "outputs": [
    {
     "name": "stdout",
     "output_type": "stream",
     "text": [
      "30 is largest\n"
     ]
    }
   ],
   "source": [
    "# nested if-else, here one if-else is within another if-else\n",
    "x=30\n",
    "y=20\n",
    "z=15\n",
    "if (x>y):\n",
    "    if(x>z):\n",
    "        print(\"%d is largest\" %(x))\n",
    "    else:\n",
    "        print(\"%d is the largest\" %(z))\n",
    "else:\n",
    "    if(y>z):\n",
    "        print(\"%d is the largest\" %y)\n",
    "    else:\n",
    "        print(\"%d is the largest\" %z)"
   ]
  },
  {
   "cell_type": "code",
   "execution_count": 14,
   "id": "456a8d33",
   "metadata": {},
   "outputs": [
    {
     "name": "stdout",
     "output_type": "stream",
     "text": [
      "enter first number34\n",
      "enter second number56\n",
      "enter third number78\n",
      "78 is the largest\n"
     ]
    }
   ],
   "source": [
    "x=int(input(\"enter first number\"))\n",
    "y=int(input(\"enter second number\"))\n",
    "z=int(input(\"enter third number\"))\n",
    "if (x>y):\n",
    "    if(x>z):\n",
    "        print(\"%d is largest\" %(x))\n",
    "    else:\n",
    "        print(\"%d is the largest\" %(z))\n",
    "else:\n",
    "    if(y>z):\n",
    "        print(\"%d is the largest\" %y)\n",
    "    else:\n",
    "        print(\"%d is the largest\" %z)"
   ]
  },
  {
   "cell_type": "code",
   "execution_count": 17,
   "id": "0bcd27ca",
   "metadata": {},
   "outputs": [
    {
     "name": "stdout",
     "output_type": "stream",
     "text": [
      "enter your average number89\n",
      "you have distinction\n"
     ]
    }
   ],
   "source": [
    "# multiway\n",
    "# elif() is the function used for else-if\n",
    "avg= int(input(\"enter your average number\"))\n",
    "if avg>75:\n",
    "    print(\"you have distinction\")\n",
    "elif avg>=60 and avg<75:\n",
    "    print(\"I class\")\n",
    "elif avg>=50 and avg<60:\n",
    "    print(\"II class\")\n",
    "elif avg>=40 and avg<50:\n",
    "    print(\"Pass\")   \n",
    "else:\n",
    "    print(\"Fail\")"
   ]
  },
  {
   "cell_type": "code",
   "execution_count": null,
   "id": "08d07a3e",
   "metadata": {},
   "outputs": [],
   "source": [
    "# Looping statements\n",
    "# while loop, for loop\n",
    "# initial statement\n",
    "# while(condition)\n",
    "# enter loop statements if condition is true\n",
    "# comes out of loop when the condition is false\n",
    "# print numbers 1 to 10\n",
    "x=1  #initialisation\n",
    "while(x<=10):\n",
    "    print(x)\n",
    "    x=x+1\n",
    "print(\"end of loop\")"
   ]
  },
  {
   "cell_type": "code",
   "execution_count": null,
   "id": "6b6f797a",
   "metadata": {},
   "outputs": [],
   "source": [
    "i=1\n",
    "sum=0\n",
    "while(i<=10):\n",
    "    i=i+1\n",
    "print(\"sum is\", sum)"
   ]
  },
  {
   "cell_type": "code",
   "execution_count": null,
   "id": "f067c44e",
   "metadata": {},
   "outputs": [],
   "source": [
    "i=1\n",
    "sum=0\n",
    "while(i<=10):\n",
    "    print(\"i value is\", i)\n",
    "    sum=sum+i\n",
    "    i=i+1\n",
    "    print(\"sum is\", sum)"
   ]
  },
  {
   "cell_type": "code",
   "execution_count": null,
   "id": "dc490d8f",
   "metadata": {},
   "outputs": [],
   "source": [
    "# break\n",
    "i=1\n",
    "sum=0\n",
    "while(i<=10):\n",
    "    # print(\"i value is\", i)\n",
    "    sum=sum+i\n",
    "    i=i+1\n",
    "    if sum>40:\n",
    "        break\n",
    "print(\"i=\",i,\"sum is\", sum)"
   ]
  },
  {
   "cell_type": "code",
   "execution_count": null,
   "id": "6d26cf2f",
   "metadata": {},
   "outputs": [],
   "source": [
    "# use of continue\n",
    "# this takes the execution to the beginning of the loop and will not execute the remaining statements\n",
    "# break and continue are also called uncontional statements\n",
    "i=0\n",
    "sum1=0\n",
    "while(i<=10):\n",
    "    i=i+1\n",
    "    print(\"i=\",i)\n",
    "    if i==5:\n",
    "     continue   # the execution immediately moves to the beginning of the loop\n",
    "                # and remaning statements in loop are executed\n",
    "        sum1=sum1+i\n",
    "        print(\"sum=\", sum1)"
   ]
  },
  {
   "cell_type": "code",
   "execution_count": null,
   "id": "de2fde27",
   "metadata": {},
   "outputs": [],
   "source": [
    "# Continue- moves the execution to the beginning of the loop\n",
    "i=0\n",
    "sum1=0\n",
    "while(i<=10):\n",
    "    i=i+1\n",
    "    print(\"i=\",i)\n",
    "    if i==5:\n",
    "                # the execution immediately moves to the beginning of the loop\n",
    "                # and remaning statements in loop are executed\n",
    "        sum1=sum1+i\n",
    "        print(\"sum=\", sum1)\n",
    "        continue  "
   ]
  },
  {
   "cell_type": "code",
   "execution_count": 1,
   "id": "ca3ff896",
   "metadata": {},
   "outputs": [
    {
     "name": "stdout",
     "output_type": "stream",
     "text": [
      "[2, 5, 4, 3, 'a']\n"
     ]
    }
   ],
   "source": [
    "# for loop\n",
    "# syntax\n",
    "# for variable_name in list_name\n",
    "# list is one-dimensional and all elements are of same data type\n",
    "a=[2,5,4,3,\"a\"]\n",
    "print(a)"
   ]
  },
  {
   "cell_type": "code",
   "execution_count": 2,
   "id": "05d8a82a",
   "metadata": {},
   "outputs": [
    {
     "name": "stdout",
     "output_type": "stream",
     "text": [
      "2\n",
      "3\n",
      "4\n",
      "6\n",
      "78\n"
     ]
    }
   ],
   "source": [
    "a=[2,3,4,6,78]\n",
    "for num in a:\n",
    "    print(num)"
   ]
  },
  {
   "cell_type": "code",
   "execution_count": 3,
   "id": "b5fb1f84",
   "metadata": {},
   "outputs": [
    {
     "name": "stdout",
     "output_type": "stream",
     "text": [
      "banana\n",
      "apple\n",
      "orange\n"
     ]
    }
   ],
   "source": [
    "fruits=[\"banana\",\"apple\",\"orange\"]\n",
    "for i in fruits:\n",
    "    print(i)"
   ]
  },
  {
   "cell_type": "code",
   "execution_count": 43,
   "id": "f4bb3726",
   "metadata": {},
   "outputs": [
    {
     "name": "stdout",
     "output_type": "stream",
     "text": [
      "[2, 5, 7, 9, 88]\n",
      "<class 'list'>\n"
     ]
    }
   ],
   "source": [
    "# Lists\n",
    "# Has many elements in t of different data types\n",
    "# List can be empty\n",
    "# has one dimension\n",
    "# One list can be within another list\n",
    "# Lists arev mutable\n",
    "x= [2,5,7,9,88]\n",
    "print(x)\n",
    "print(type(x))"
   ]
  },
  {
   "cell_type": "code",
   "execution_count": 5,
   "id": "f41e4f5a",
   "metadata": {},
   "outputs": [
    {
     "name": "stdout",
     "output_type": "stream",
     "text": [
      "[2, 5, 'hello', 9, 88]\n",
      "2\n",
      "5\n"
     ]
    }
   ],
   "source": [
    "y=[2,5,\"hello\",9,88]\n",
    "print(y)\n",
    "print(y[0])\n",
    "print(y[1])"
   ]
  },
  {
   "cell_type": "code",
   "execution_count": 42,
   "id": "b33b499a",
   "metadata": {},
   "outputs": [
    {
     "name": "stdout",
     "output_type": "stream",
     "text": [
      "[2, 5, 'hello', 9, 88, 100, 'Sunday']\n"
     ]
    }
   ],
   "source": [
    "# to add the elemets to the existing list\n",
    "y.append(100)\n",
    "y.append(\"Sunday\")\n",
    "print(y)"
   ]
  },
  {
   "cell_type": "code",
   "execution_count": 10,
   "id": "f358475c",
   "metadata": {},
   "outputs": [
    {
     "data": {
      "text/plain": [
       "False"
      ]
     },
     "execution_count": 10,
     "metadata": {},
     "output_type": "execute_result"
    }
   ],
   "source": [
    "100 in y"
   ]
  },
  {
   "cell_type": "code",
   "execution_count": 44,
   "id": "230cf242",
   "metadata": {},
   "outputs": [
    {
     "data": {
      "text/plain": [
       "True"
      ]
     },
     "execution_count": 44,
     "metadata": {},
     "output_type": "execute_result"
    }
   ],
   "source": [
    "\"Sunday\" in y"
   ]
  },
  {
   "cell_type": "code",
   "execution_count": 19,
   "id": "e6345587",
   "metadata": {},
   "outputs": [
    {
     "name": "stdout",
     "output_type": "stream",
     "text": [
      "4\n",
      "6\n",
      "8\n",
      "10\n",
      "12\n",
      "14\n"
     ]
    }
   ],
   "source": [
    "for i in range (4, 15, 2): #starting number, upto, increment by\n",
    "    print(i)"
   ]
  },
  {
   "cell_type": "code",
   "execution_count": 18,
   "id": "d623d7d2",
   "metadata": {},
   "outputs": [
    {
     "name": "stdout",
     "output_type": "stream",
     "text": [
      "4\n",
      "6\n",
      "8\n",
      "10\n",
      "12\n",
      "14\n",
      "16\n",
      "18\n",
      "20\n",
      "22\n",
      "24\n",
      "26\n",
      "28\n",
      "30\n",
      "32\n",
      "34\n",
      "36\n",
      "38\n",
      "40\n",
      "42\n",
      "44\n"
     ]
    }
   ],
   "source": [
    "for i in range (4, 45, 2): #starting number, upto, increment by\n",
    "    print(i)"
   ]
  },
  {
   "cell_type": "code",
   "execution_count": 31,
   "id": "906e852e",
   "metadata": {},
   "outputs": [
    {
     "name": "stdout",
     "output_type": "stream",
     "text": [
      "8\n",
      "10\n",
      "12\n",
      "14\n",
      "16\n",
      "18\n",
      "20\n",
      "22\n",
      "24\n",
      "26\n",
      "28\n"
     ]
    }
   ],
   "source": [
    "for i in range (8, 30, 2): #starting number, upto, increment by\n",
    "    print(i)"
   ]
  },
  {
   "cell_type": "code",
   "execution_count": 33,
   "id": "e52e4802",
   "metadata": {},
   "outputs": [
    {
     "name": "stdout",
     "output_type": "stream",
     "text": [
      "55\n"
     ]
    }
   ],
   "source": [
    "# find the sum of numbers from 1 to 10 using for loop and range, print the sum\n",
    "sum= 0\n",
    "for i in range(1, 11):\n",
    "    sum +=i\n",
    "print(sum)"
   ]
  },
  {
   "cell_type": "code",
   "execution_count": 36,
   "id": "48329464",
   "metadata": {},
   "outputs": [
    {
     "name": "stdout",
     "output_type": "stream",
     "text": [
      "sum of even numbers is= 20\n"
     ]
    }
   ],
   "source": [
    "# find sum of even numbers between 1 to 10\n",
    "sum= 0\n",
    "for i in range(2, 10, 2):\n",
    "    sum = sum+i\n",
    "print(\"sum of even numbers is=\", sum)"
   ]
  },
  {
   "cell_type": "code",
   "execution_count": 37,
   "id": "2b4d8d71",
   "metadata": {},
   "outputs": [
    {
     "name": "stdout",
     "output_type": "stream",
     "text": [
      "sum of odd numbers is= 25\n"
     ]
    }
   ],
   "source": [
    "# find sum of odd numbers between 1 to 10\n",
    "sum= 0\n",
    "for i in range(1, 10, 2):\n",
    "    sum = sum+i\n",
    "print(\"sum of odd numbers is=\", sum)"
   ]
  },
  {
   "cell_type": "code",
   "execution_count": 38,
   "id": "dae89f66",
   "metadata": {},
   "outputs": [
    {
     "name": "stdout",
     "output_type": "stream",
     "text": [
      "10\n"
     ]
    }
   ],
   "source": [
    "numbers= [2,5,77,55,233,22,444,667,544,66]\n",
    "print(len(numbers))"
   ]
  },
  {
   "cell_type": "code",
   "execution_count": 39,
   "id": "76b949e3",
   "metadata": {},
   "outputs": [
    {
     "name": "stdout",
     "output_type": "stream",
     "text": [
      "count= 1 sum= 1\n",
      "count= 2 sum= 4\n",
      "count= 3 sum= 9\n",
      "count= 4 sum= 16\n",
      "count= 5 sum= 25\n",
      "sum of odd numbers is= 25\n"
     ]
    }
   ],
   "source": [
    "sum= 0\n",
    "count= 0\n",
    "for i in range(1, 10, 2):\n",
    "    sum = sum+i\n",
    "    count=count+1\n",
    "    print(\"count=\", count, \"sum=\",sum)\n",
    "print(\"sum of odd numbers is=\", sum)"
   ]
  },
  {
   "cell_type": "code",
   "execution_count": 40,
   "id": "b0db08ba",
   "metadata": {},
   "outputs": [
    {
     "name": "stdout",
     "output_type": "stream",
     "text": [
      "10\n"
     ]
    }
   ],
   "source": [
    "numbers= [2,5,77,55,233,22,444,667,544,66]\n",
    "print(len(numbers))\n",
    "# add from 2nd number till last but one\n",
    "sum=0\n",
    "count=0\n",
    "for i in numbers:\n",
    "    sum= sum+i\n",
    "    count=count+1\n",
    "    \n"
   ]
  },
  {
   "cell_type": "code",
   "execution_count": 4,
   "id": "e5c9d631",
   "metadata": {},
   "outputs": [
    {
     "name": "stdout",
     "output_type": "stream",
     "text": [
      "[ 2  3  4 78  9]\n",
      "the first element is 2\n",
      "the 2nd element is 3\n",
      "length is 5\n",
      "the 2nd element is 9\n",
      "the element from 2nd position to 4th position(including) is [ 3  4 78]\n",
      "the element from 2nd position to last is [ 3  4 78  9]\n"
     ]
    }
   ],
   "source": [
    "# array all elements of same data type\n",
    "# one and more than one dimentional\n",
    "# numpy\n",
    "import numpy as np\n",
    "a1= np.array([2,3,4,78,9])\n",
    "print(a1)\n",
    "print(\"the first element is\", a1[0])\n",
    "print(\"the 2nd element is\", a1[1])\n",
    "length=len(a1)\n",
    "print(\"length is\", length)\n",
    "print(\"the 2nd element is\", a1[length-1]) # last element\n",
    "print(\"the element from 2nd position to 4th position(including) is\", a1[1:4])\n",
    "print(\"the element from 2nd position to last is\", a1[1:])"
   ]
  },
  {
   "cell_type": "code",
   "execution_count": 54,
   "id": "40865633",
   "metadata": {},
   "outputs": [
    {
     "name": "stdout",
     "output_type": "stream",
     "text": [
      "2\n",
      "3\n",
      "4\n",
      "78\n",
      "9\n"
     ]
    }
   ],
   "source": [
    "for i in a1:\n",
    "    print(i)"
   ]
  },
  {
   "cell_type": "code",
   "execution_count": null,
   "id": "af103166",
   "metadata": {},
   "outputs": [],
   "source": []
  }
 ],
 "metadata": {
  "kernelspec": {
   "display_name": "Python 3 (ipykernel)",
   "language": "python",
   "name": "python3"
  },
  "language_info": {
   "codemirror_mode": {
    "name": "ipython",
    "version": 3
   },
   "file_extension": ".py",
   "mimetype": "text/x-python",
   "name": "python",
   "nbconvert_exporter": "python",
   "pygments_lexer": "ipython3",
   "version": "3.10.0"
  }
 },
 "nbformat": 4,
 "nbformat_minor": 5
}
