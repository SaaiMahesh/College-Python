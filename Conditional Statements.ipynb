{
 "cells": [
  {
   "cell_type": "code",
   "execution_count": 4,
   "metadata": {},
   "outputs": [
    {
     "name": "stdout",
     "output_type": "stream",
     "text": [
      "value of x is 10 and y is 5.500000\n",
      "value of y is 5.50\n"
     ]
    }
   ],
   "source": [
    "#Adding specifiers in print statement\n",
    "x=10\n",
    "y=5.5\n",
    "print(\"value of x is %d and y is %f\"%(x,y)) #%d is used for integers and %f used for floats\n",
    "print(\"value of y is %.2f\"%y)  #%.2f used for floats upto 2 decimal points"
   ]
  },
  {
   "cell_type": "code",
   "execution_count": 5,
   "metadata": {},
   "outputs": [
    {
     "name": "stdout",
     "output_type": "stream",
     "text": [
      "x is greater than 5\n",
      "10 is greater than 5\n"
     ]
    }
   ],
   "source": [
    "#Conditional statements\n",
    "#if\n",
    "x=10\n",
    "if x > 20:\n",
    "    print(\"x is larger\")\n",
    "\n",
    "#if-else example 1 \n",
    "if x>5:\n",
    "    print(\"x is greater than 5\")\n",
    "else:\n",
    "    print(\"x is lesser than 5\")\n",
    "\n",
    "#if-else example 2\n",
    "num1=int(input(\"Enter first number\"))\n",
    "num2=int(input(\"Enter second number\"))\n",
    "if num1>num2:\n",
    "    print(\"%d is greater than %d\"%(num1,num2))\n",
    "else:\n",
    "    print(\"%d is greater than %d\"%(num2,num1))\n"
   ]
  },
  {
   "cell_type": "code",
   "execution_count": 14,
   "metadata": {},
   "outputs": [
    {
     "name": "stdout",
     "output_type": "stream",
     "text": [
      "3 is the largest number with z being 3\n"
     ]
    }
   ],
   "source": [
    "#nested if-else\n",
    "x=int(input(\"Enter first number\"))\n",
    "y=int(input(\"Enter second number\"))\n",
    "z=int(input(\"Enter third number\"))\n",
    "if(x>y):\n",
    "    if(x>z):\n",
    "        print(\"%d is the largest number\"%(x),\"with x being\",x)\n",
    "    else:\n",
    "        print(\"%d is the largest number\"%(z),\"with z being\",z)\n",
    "else:\n",
    "    if(y>z):\n",
    "        print(\"%d is the largest number\"%(y),\"with y being\",y)\n",
    "    else:\n",
    "        print(\"%d is the largest number\"%(z),\"with z being\",z)\n"
   ]
  },
  {
   "cell_type": "code",
   "execution_count": 42,
   "metadata": {},
   "outputs": [
    {
     "name": "stdout",
     "output_type": "stream",
     "text": [
      "Fail\n"
     ]
    }
   ],
   "source": [
    "#Multiway aka ladder - elif() used for else-if logic\n",
    "avg=int(input(\"Enter your average marks\"))\n",
    "if avg>75:\n",
    "    print(\"You have achieved distinction!\")\n",
    "elif((avg>=60) & (avg<75)):\n",
    "    print(\"First class\")\n",
    "elif((avg>=50) & (avg<60)):\n",
    "    print(\"Second class\")\n",
    "elif((avg>=40) & (avg<50)):\n",
    "    print(\"Pass\")\n",
    "else:\n",
    "    print(\"Fail\")"
   ]
  },
  {
   "cell_type": "code",
   "execution_count": 1,
   "metadata": {},
   "outputs": [
    {
     "name": "stdout",
     "output_type": "stream",
     "text": [
      "1\n",
      "2\n",
      "3\n",
      "4\n",
      "5\n",
      "6\n",
      "7\n",
      "8\n",
      "9\n",
      "10\n",
      "End of while loop.\n"
     ]
    }
   ],
   "source": [
    "#Looping statements\n",
    "#While\n",
    "x=1\n",
    "while(x<=10):\n",
    "    print(x)\n",
    "    x+=1 #addition assignment aka x=x+1\n",
    "print(\"End of while loop.\")"
   ]
  },
  {
   "cell_type": "code",
   "execution_count": 16,
   "metadata": {},
   "outputs": [
    {
     "name": "stdout",
     "output_type": "stream",
     "text": [
      "Break is invoked!\n",
      "Sum is 45\n"
     ]
    }
   ],
   "source": [
    "#While loop example 2\n",
    "i=1\n",
    "sum=0\n",
    "print(\"Break is invoked!\")\n",
    "while(i<=10):\n",
    "    sum+=i\n",
    "    i+=1\n",
    "    if(sum>=40):\n",
    "        break #Breaks the loop to the first line before the while loop\n",
    "print(\"Sum is\",sum)"
   ]
  },
  {
   "cell_type": "code",
   "execution_count": 14,
   "metadata": {},
   "outputs": [
    {
     "name": "stdout",
     "output_type": "stream",
     "text": [
      "i is 1\n",
      "sum is 1\n",
      "i is 2\n",
      "sum is 3\n",
      "i is 3\n",
      "sum is 6\n",
      "i is 4\n",
      "sum is 10\n",
      "i is 5\n",
      "i is 6\n",
      "sum is 16\n",
      "i is 7\n",
      "sum is 23\n",
      "i is 8\n",
      "sum is 31\n",
      "i is 9\n",
      "sum is 40\n",
      "i is 10\n",
      "sum is 50\n",
      "i is 11\n",
      "sum is 61\n"
     ]
    }
   ],
   "source": [
    "#Break and continue are also called unconditional statements\n",
    "#Using \"continue\"\n",
    "sum1=0\n",
    "i=0\n",
    "while(i<=10):\n",
    "    i+=1\n",
    "    print(\"i is\",i)\n",
    "    if(i==5): #Skipping 5\n",
    "        continue\n",
    "    sum1+=i\n",
    "    print(\"sum is\",sum1)\n"
   ]
  },
  {
   "cell_type": "code",
   "execution_count": 24,
   "metadata": {},
   "outputs": [
    {
     "name": "stdout",
     "output_type": "stream",
     "text": [
      "1\n",
      "2\n",
      "3\n",
      "bye\n",
      "bye\n",
      "bye\n",
      "bye\n",
      "bye\n"
     ]
    }
   ],
   "source": [
    "#For loop\n",
    "x=[1,2,3]\n",
    "for i in x:\n",
    "    print(i)"
   ]
  },
  {
   "cell_type": "code",
   "execution_count": 25,
   "metadata": {},
   "outputs": [
    {
     "name": "stdout",
     "output_type": "stream",
     "text": [
      "bye\n",
      "bye\n",
      "bye\n",
      "bye\n",
      "bye\n"
     ]
    }
   ],
   "source": [
    "#For loop example 2\n",
    "x=[0,1,2,3,'bye'] #List is only 1-D\n",
    "for i in x:\n",
    "    print(x[4])"
   ]
  }
 ],
 "metadata": {
  "interpreter": {
   "hash": "b90d6b7f662fff397f3e23e27bbffaa62ea71756791edc9a6d812b31905f1de1"
  },
  "kernelspec": {
   "display_name": "Python 3.10.0 64-bit",
   "language": "python",
   "name": "python3"
  },
  "language_info": {
   "codemirror_mode": {
    "name": "ipython",
    "version": 3
   },
   "file_extension": ".py",
   "mimetype": "text/x-python",
   "name": "python",
   "nbconvert_exporter": "python",
   "pygments_lexer": "ipython3",
   "version": "3.10.0"
  },
  "orig_nbformat": 4
 },
 "nbformat": 4,
 "nbformat_minor": 2
}
