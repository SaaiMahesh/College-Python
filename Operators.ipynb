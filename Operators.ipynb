{
 "cells": [
  {
   "cell_type": "code",
   "execution_count": 1,
   "metadata": {},
   "outputs": [
    {
     "data": {
      "text/plain": [
       "'hello world'"
      ]
     },
     "execution_count": 1,
     "metadata": {},
     "output_type": "execute_result"
    }
   ],
   "source": [
    "#Hello world\n",
    "var_test = \"hello world\"\n",
    "var_test"
   ]
  },
  {
   "cell_type": "code",
   "execution_count": 5,
   "metadata": {},
   "outputs": [
    {
     "name": "stdout",
     "output_type": "stream",
     "text": [
      "3\n",
      "1\n",
      "2\n",
      "1\n",
      "1\n",
      "sum of a and b is  3\n",
      "difference between 1 and 2 is 1\n",
      "multiplication between 1 and 2 is 2\n",
      "exponent of 1 power 2 is 1\n",
      "modulo of 1 and 2 is 1\n"
     ]
    }
   ],
   "source": [
    "#Arithemetic operators\n",
    "a=1\n",
    "b=2\n",
    "add = a+b\n",
    "sub = b-a\n",
    "mul = a*b\n",
    "exp = a**b\n",
    "rem = a%b\n",
    "print(add)\n",
    "print(sub)\n",
    "print(mul)\n",
    "print(exp)\n",
    "print(rem)\n",
    "print(\"sum of a and b is \",add)\n",
    "print(\"difference between\",a,\"and\",b,\"is\",sub)\n",
    "print(\"multiplication between\",a,\"and\",b,\"is\",mul)\n",
    "print(\"exponent of\",a,\"power\",b,\"is\",exp)\n",
    "print(\"modulo of\",a,\"and\",b,\"is\",rem)"
   ]
  },
  {
   "cell_type": "code",
   "execution_count": null,
   "metadata": {},
   "outputs": [],
   "source": [
    "#hierarchy of logic is paranthesis,power,multi/div,add/sub,left to right "
   ]
  },
  {
   "cell_type": "code",
   "execution_count": 14,
   "metadata": {},
   "outputs": [
    {
     "name": "stdout",
     "output_type": "stream",
     "text": [
      "Total wages to be paid for hourly rate of 4.5 and number of hours worked for 20 is: Rs. 90.0\n"
     ]
    }
   ],
   "source": [
    "#Example Questions\n",
    "#Q1. Find total wages to be paid if hourly rate is 4.5 and number of hours worked is 20\n",
    "hourly_rate = 4.5\n",
    "hours = 20\n",
    "wages = hourly_rate*hours\n",
    "print(\"Total wages to be paid for hourly rate of\",hourly_rate,\"and number of hours worked for\",hours,\"is:\",\"Rs.\",wages)"
   ]
  },
  {
   "cell_type": "code",
   "execution_count": 21,
   "metadata": {},
   "outputs": [
    {
     "name": "stdout",
     "output_type": "stream",
     "text": [
      "I am tired hence I need to rest.\n"
     ]
    }
   ],
   "source": [
    "#Concat of strings\n",
    "str1=\"I am tired hence\"\n",
    "str2=\" I need to rest.\"\n",
    "ans=str1+str2\n",
    "print(ans)"
   ]
  },
  {
   "cell_type": "code",
   "execution_count": 27,
   "metadata": {},
   "outputs": [
    {
     "name": "stdout",
     "output_type": "stream",
     "text": [
      "14.0\n"
     ]
    }
   ],
   "source": [
    "#Type conversion\n",
    "print(float(12)+2) #Outputs decimal to the print since 12 is converted to a decimal number (12.0)"
   ]
  },
  {
   "cell_type": "code",
   "execution_count": 30,
   "metadata": {},
   "outputs": [
    {
     "name": "stdout",
     "output_type": "stream",
     "text": [
      "<class 'str'>\n",
      "<class 'int'>\n",
      "<class 'int'>\n",
      "457\n"
     ]
    }
   ],
   "source": [
    "str123=\"456\"\n",
    "print(type(str123))\n",
    "int_str=int(str123) #Converting string to int type\n",
    "print(type(int_str))\n",
    "intstring_add=int_str+1 #Adding string to a integer\n",
    "print(type(intstring_add))\n",
    "print(intstring_add)"
   ]
  },
  {
   "cell_type": "code",
   "execution_count": 33,
   "metadata": {},
   "outputs": [
    {
     "name": "stdout",
     "output_type": "stream",
     "text": [
      "Your name is John!\n"
     ]
    }
   ],
   "source": [
    "#User input\n",
    "name = input('Enter your name')\n",
    "print(\"Your name is\",name+\"!\")"
   ]
  },
  {
   "cell_type": "code",
   "execution_count": 35,
   "metadata": {},
   "outputs": [
    {
     "name": "stdout",
     "output_type": "stream",
     "text": [
      "12\n"
     ]
    }
   ],
   "source": [
    "#Print a user input number \n",
    "#Input is always string data type so we convert to input to int\n",
    "a=int(input(\"type your number\"))\n",
    "print(a)\n"
   ]
  },
  {
   "cell_type": "code",
   "execution_count": 37,
   "metadata": {},
   "outputs": [
    {
     "name": "stdout",
     "output_type": "stream",
     "text": [
      "Sum of both the numbers is 10\n"
     ]
    }
   ],
   "source": [
    "#Example Question\n",
    "#Q2.Take two numbers from user as input and add them\n",
    "x=int(input(\"Enter first number\"))\n",
    "y=int(input(\"Enter second number\"))\n",
    "z=x+y\n",
    "print(\"Sum of both the numbers is\",z)"
   ]
  },
  {
   "cell_type": "code",
   "execution_count": 41,
   "metadata": {},
   "outputs": [
    {
     "name": "stdout",
     "output_type": "stream",
     "text": [
      "Wages for hourly rate of 12 for 50 is Rs. 600\n"
     ]
    }
   ],
   "source": [
    "#Q3. Generate wages based on number of hours of work and hourly rate of that employees\n",
    "hourly_rate=int(input(\"Enter rate of hours worked\"))\n",
    "hours=int(input(\"Enter number of hours worked\"))\n",
    "wages=hourly_rate*hours\n",
    "print(\"Wages for hourly rate of\",hourly_rate,\"for\",hours,\"is\",\"Rs.\",wages)\n"
   ]
  },
  {
   "cell_type": "code",
   "execution_count": 42,
   "metadata": {},
   "outputs": [
    {
     "name": "stdout",
     "output_type": "stream",
     "text": [
      "x is lesser than y\n"
     ]
    }
   ],
   "source": [
    "#Conditional statements\n",
    "x=1\n",
    "y=2\n",
    "if(x>y):\n",
    "    print(\"x is greater than y\")\n",
    "else:\n",
    "    print(\"x is lesser than y\")"
   ]
  },
  {
   "cell_type": "code",
   "execution_count": 3,
   "metadata": {},
   "outputs": [
    {
     "name": "stdout",
     "output_type": "stream",
     "text": [
      "y is the largest number with y being 200\n"
     ]
    }
   ],
   "source": [
    "# Example Questions\n",
    "# Q4. Take input of two numbers from user and find the largest of two numbers and display the result\n",
    "x=int(input(\"Enter first number\"))\n",
    "y=int(input(\"Enter second number\"))\n",
    "if(x>y):\n",
    "    print(\"x is the largest number with x being\",x)\n",
    "else:\n",
    "    print(\"y is the largest number with y being\",y)"
   ]
  },
  {
   "cell_type": "code",
   "execution_count": 7,
   "metadata": {},
   "outputs": [
    {
     "name": "stdout",
     "output_type": "stream",
     "text": [
      "Total bill to be paid with discount of 1000.0 is Rs. 9000.0\n"
     ]
    }
   ],
   "source": [
    "#Q5. Billing counter of shopping mall follows-\n",
    "# Give 10% discount if total bill amount is 5000 or above and print the amount to be paid and discount granted\n",
    "# If shopping amount is less than 5000 then no discount and print the amount to be paid\n",
    "# Shopping amount must be user input\n",
    "\n",
    "shopping_amt=int(input(\"Enter shopping amount\"))\n",
    "discount=0.10\n",
    "if(shopping_amt>=5000):\n",
    "    discount_price=discount*shopping_amt\n",
    "    discounted_bill=shopping_amt-discount_price\n",
    "    print(\"Total bill to be paid with discount of\",discount_price,\"is Rs.\",discounted_bill)\n",
    "else:\n",
    "    print(\"Total bill to be paid with no discount is Rs.\",shopping_amt)\n"
   ]
  }
 ],
 "metadata": {
  "interpreter": {
   "hash": "b90d6b7f662fff397f3e23e27bbffaa62ea71756791edc9a6d812b31905f1de1"
  },
  "kernelspec": {
   "display_name": "Python 3.10.0 64-bit",
   "language": "python",
   "name": "python3"
  },
  "language_info": {
   "codemirror_mode": {
    "name": "ipython",
    "version": 3
   },
   "file_extension": ".py",
   "mimetype": "text/x-python",
   "name": "python",
   "nbconvert_exporter": "python",
   "pygments_lexer": "ipython3",
   "version": "3.10.0"
  },
  "orig_nbformat": 4
 },
 "nbformat": 4,
 "nbformat_minor": 2
}
