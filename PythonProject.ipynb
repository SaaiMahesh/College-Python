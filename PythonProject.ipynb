{
 "cells": [
  {
   "cell_type": "markdown",
   "metadata": {},
   "source": [
    "<h3>Flipkart Big Billion Days Customer Perspective Analysis<h3>"
   ]
  },
  {
   "cell_type": "code",
   "execution_count": 177,
   "metadata": {},
   "outputs": [
    {
     "data": {
      "text/html": [
       "<div>\n",
       "<style scoped>\n",
       "    .dataframe tbody tr th:only-of-type {\n",
       "        vertical-align: middle;\n",
       "    }\n",
       "\n",
       "    .dataframe tbody tr th {\n",
       "        vertical-align: top;\n",
       "    }\n",
       "\n",
       "    .dataframe thead th {\n",
       "        text-align: right;\n",
       "    }\n",
       "</style>\n",
       "<table border=\"1\" class=\"dataframe\">\n",
       "  <thead>\n",
       "    <tr style=\"text-align: right;\">\n",
       "      <th></th>\n",
       "      <th>HaveyouheardaboutTheBigBillionDays</th>\n",
       "      <th>HaveyoushoppedduringTheBigBillionDays</th>\n",
       "      <th>Agegrouprange</th>\n",
       "      <th>City</th>\n",
       "      <th>Profession</th>\n",
       "      <th>HowoftendoyoushopfromFlipkart</th>\n",
       "      <th>Satisfaction</th>\n",
       "      <th>DoyouhaveFlipkartPlusMembership</th>\n",
       "      <th>WouldyouconsiderjoiningFlipkartPlusMembership</th>\n",
       "      <th>AmazonSatisfaction</th>\n",
       "      <th>FlipkartSatisfaction</th>\n",
       "      <th>SnapdealSatisfaction</th>\n",
       "      <th>AlibabaSatisfaction</th>\n",
       "      <th>ShopcluesSatisfaction</th>\n",
       "      <th>QualityScale</th>\n",
       "      <th>PriceScale</th>\n",
       "      <th>BrandScale</th>\n",
       "      <th>ReviewScale</th>\n",
       "      <th>DiscountPercentageScale</th>\n",
       "    </tr>\n",
       "  </thead>\n",
       "  <tbody>\n",
       "    <tr>\n",
       "      <th>0</th>\n",
       "      <td>Yes</td>\n",
       "      <td>No</td>\n",
       "      <td>26 - 35 years</td>\n",
       "      <td>Metro city</td>\n",
       "      <td>Working</td>\n",
       "      <td>Less Often</td>\n",
       "      <td>3</td>\n",
       "      <td>No</td>\n",
       "      <td>No</td>\n",
       "      <td>Satisfied</td>\n",
       "      <td>Neutral</td>\n",
       "      <td>Unsatisfied</td>\n",
       "      <td>Very Unsatisfied</td>\n",
       "      <td>Very Unsatisfied</td>\n",
       "      <td>3</td>\n",
       "      <td>4</td>\n",
       "      <td>2</td>\n",
       "      <td>3</td>\n",
       "      <td>4</td>\n",
       "    </tr>\n",
       "    <tr>\n",
       "      <th>1</th>\n",
       "      <td>Yes</td>\n",
       "      <td>Yes</td>\n",
       "      <td>26 - 35 years</td>\n",
       "      <td>Metro city</td>\n",
       "      <td>Student</td>\n",
       "      <td>Less Often</td>\n",
       "      <td>3</td>\n",
       "      <td>No</td>\n",
       "      <td>Yes</td>\n",
       "      <td>Very Satisfied</td>\n",
       "      <td>Satisfied</td>\n",
       "      <td>Very Unsatisfied</td>\n",
       "      <td>Very Unsatisfied</td>\n",
       "      <td>Very Unsatisfied</td>\n",
       "      <td>3</td>\n",
       "      <td>3</td>\n",
       "      <td>2</td>\n",
       "      <td>4</td>\n",
       "      <td>3</td>\n",
       "    </tr>\n",
       "    <tr>\n",
       "      <th>2</th>\n",
       "      <td>Yes</td>\n",
       "      <td>No</td>\n",
       "      <td>15 - 25 years</td>\n",
       "      <td>Metro city</td>\n",
       "      <td>Student</td>\n",
       "      <td>Quarterly</td>\n",
       "      <td>4</td>\n",
       "      <td>No</td>\n",
       "      <td>Yes</td>\n",
       "      <td>Very Satisfied</td>\n",
       "      <td>Neutral</td>\n",
       "      <td>Unsatisfied</td>\n",
       "      <td>Unsatisfied</td>\n",
       "      <td>Unsatisfied</td>\n",
       "      <td>5</td>\n",
       "      <td>5</td>\n",
       "      <td>5</td>\n",
       "      <td>5</td>\n",
       "      <td>5</td>\n",
       "    </tr>\n",
       "    <tr>\n",
       "      <th>3</th>\n",
       "      <td>Yes</td>\n",
       "      <td>Yes</td>\n",
       "      <td>15 - 25 years</td>\n",
       "      <td>Non-metro city/ Tier-II/ Tier-III</td>\n",
       "      <td>Student</td>\n",
       "      <td>Weekly</td>\n",
       "      <td>5</td>\n",
       "      <td>Yes</td>\n",
       "      <td>Yes</td>\n",
       "      <td>Satisfied</td>\n",
       "      <td>Satisfied</td>\n",
       "      <td>Neutral</td>\n",
       "      <td>Neutral</td>\n",
       "      <td>Neutral</td>\n",
       "      <td>5</td>\n",
       "      <td>5</td>\n",
       "      <td>5</td>\n",
       "      <td>5</td>\n",
       "      <td>4</td>\n",
       "    </tr>\n",
       "    <tr>\n",
       "      <th>4</th>\n",
       "      <td>Yes</td>\n",
       "      <td>Yes</td>\n",
       "      <td>15 - 25 years</td>\n",
       "      <td>Non-metro city/ Tier-II/ Tier-III</td>\n",
       "      <td>Student</td>\n",
       "      <td>Less Often</td>\n",
       "      <td>4</td>\n",
       "      <td>No</td>\n",
       "      <td>No</td>\n",
       "      <td>Neutral</td>\n",
       "      <td>Neutral</td>\n",
       "      <td>Neutral</td>\n",
       "      <td>Neutral</td>\n",
       "      <td>Neutral</td>\n",
       "      <td>1</td>\n",
       "      <td>1</td>\n",
       "      <td>1</td>\n",
       "      <td>1</td>\n",
       "      <td>1</td>\n",
       "    </tr>\n",
       "  </tbody>\n",
       "</table>\n",
       "</div>"
      ],
      "text/plain": [
       "  HaveyouheardaboutTheBigBillionDays HaveyoushoppedduringTheBigBillionDays  \\\n",
       "0                                Yes                                    No   \n",
       "1                                Yes                                   Yes   \n",
       "2                                Yes                                    No   \n",
       "3                                Yes                                   Yes   \n",
       "4                                Yes                                   Yes   \n",
       "\n",
       "   Agegrouprange                               City Profession  \\\n",
       "0  26 - 35 years                         Metro city    Working   \n",
       "1  26 - 35 years                         Metro city    Student   \n",
       "2  15 - 25 years                         Metro city    Student   \n",
       "3  15 - 25 years  Non-metro city/ Tier-II/ Tier-III    Student   \n",
       "4  15 - 25 years  Non-metro city/ Tier-II/ Tier-III    Student   \n",
       "\n",
       "  HowoftendoyoushopfromFlipkart  Satisfaction DoyouhaveFlipkartPlusMembership  \\\n",
       "0                    Less Often             3                              No   \n",
       "1                    Less Often             3                              No   \n",
       "2                     Quarterly             4                              No   \n",
       "3                        Weekly             5                             Yes   \n",
       "4                    Less Often             4                              No   \n",
       "\n",
       "  WouldyouconsiderjoiningFlipkartPlusMembership AmazonSatisfaction  \\\n",
       "0                                            No          Satisfied   \n",
       "1                                           Yes     Very Satisfied   \n",
       "2                                           Yes     Very Satisfied   \n",
       "3                                           Yes          Satisfied   \n",
       "4                                            No            Neutral   \n",
       "\n",
       "  FlipkartSatisfaction SnapdealSatisfaction AlibabaSatisfaction  \\\n",
       "0              Neutral          Unsatisfied    Very Unsatisfied   \n",
       "1            Satisfied     Very Unsatisfied    Very Unsatisfied   \n",
       "2              Neutral          Unsatisfied         Unsatisfied   \n",
       "3            Satisfied              Neutral             Neutral   \n",
       "4              Neutral              Neutral             Neutral   \n",
       "\n",
       "  ShopcluesSatisfaction  QualityScale  PriceScale  BrandScale  ReviewScale  \\\n",
       "0      Very Unsatisfied             3           4           2            3   \n",
       "1      Very Unsatisfied             3           3           2            4   \n",
       "2           Unsatisfied             5           5           5            5   \n",
       "3               Neutral             5           5           5            5   \n",
       "4               Neutral             1           1           1            1   \n",
       "\n",
       "   DiscountPercentageScale  \n",
       "0                        4  \n",
       "1                        3  \n",
       "2                        5  \n",
       "3                        4  \n",
       "4                        1  "
      ]
     },
     "execution_count": 177,
     "metadata": {},
     "output_type": "execute_result"
    }
   ],
   "source": [
    "#Importing libraries and reading survey data\n",
    "import pandas as pd\n",
    "import numpy as np\n",
    "from bioinfokit.analys import stat\n",
    "df = pd.read_csv(\"data.csv\")\n",
    "df.head()"
   ]
  },
  {
   "cell_type": "code",
   "execution_count": 178,
   "metadata": {},
   "outputs": [
    {
     "name": "stdout",
     "output_type": "stream",
     "text": [
      "110\n",
      "19\n"
     ]
    }
   ],
   "source": [
    "#Dataset description\n",
    "print(len(df)) #Number of rows (aka responses)\n",
    "print(len(df.columns)) #Number of columns (aka variables)"
   ]
  },
  {
   "cell_type": "markdown",
   "metadata": {},
   "source": [
    "<h3>Hypothesis Testing (Chi-Square tests)<h3>"
   ]
  },
  {
   "cell_type": "code",
   "execution_count": 179,
   "metadata": {},
   "outputs": [
    {
     "name": "stdout",
     "output_type": "stream",
     "text": [
      "HaveyouheardaboutTheBigBillionDays  No  Yes\n",
      "Agegrouprange                              \n",
      "15 - 25 years                        4   58\n",
      "26 - 35 years                        9   27\n",
      "36 - 45 years                        2    3\n",
      "45+ years                            3    4\n",
      "\n",
      "Chi-squared test for independence\n",
      "\n",
      "Test              Df    Chi-square     P-value\n",
      "--------------  ----  ------------  ----------\n",
      "Pearson            3       12.0439  0.00723423\n",
      "Log-likelihood     3       11.6013  0.00888147\n",
      "\n"
     ]
    }
   ],
   "source": [
    "#Creating crosstab\n",
    "#Q1. Does age affect the customers being aware of 'The Big Billion Days' sale?\n",
    "#H0: Age does not affect customers being aware of 'The Big Billion Days' sale.\n",
    "#H1: Age influences customers being aware of 'The Big Billion Days' sale.\n",
    "ctab = pd.crosstab(df.Agegrouprange,df.HaveyouheardaboutTheBigBillionDays) #Crosstab function tabulates two or more variables with their respective frequencies\n",
    "print(ctab)\n",
    "#Performing chi-square test\n",
    "res = stat() #Statistical significance test \n",
    "res.chisq(ctab) #Chisquare test on ctab\n",
    "print(res.summary)\n",
    "#Since p < 0.05, we accept alternative hypothesis i.e age affects customers being aware of 'The Big Billion Days' sale.\n"
   ]
  },
  {
   "cell_type": "code",
   "execution_count": 180,
   "metadata": {},
   "outputs": [
    {
     "name": "stdout",
     "output_type": "stream",
     "text": [
      "HaveyoushoppedduringTheBigBillionDays  No  Yes\n",
      "Agegrouprange                                 \n",
      "15 - 25 years                          22   40\n",
      "26 - 35 years                          20   16\n",
      "36 - 45 years                           4    1\n",
      "45+ years                               3    4\n",
      "\n",
      "Chi-squared test for independence\n",
      "\n",
      "Test              Df    Chi-square    P-value\n",
      "--------------  ----  ------------  ---------\n",
      "Pearson            3       6.37994  0.0945194\n",
      "Log-likelihood     3       6.50627  0.0894156\n",
      "\n"
     ]
    }
   ],
   "source": [
    "#Q2. Does age influence customers shopping during 'The Big Billion Days' sale?\n",
    "#H0: Age does not influence customers shopping during 'The Big Billion Days' sale.\n",
    "#H1: Age influences customers shopping during 'The Big Billion Days' sale.\n",
    "ctab = pd.crosstab(df.Agegrouprange,df.HaveyoushoppedduringTheBigBillionDays)\n",
    "print(ctab)\n",
    "res = stat()\n",
    "res.chisq(ctab)\n",
    "print(res.summary)\n",
    "#Since p > 0.05, we accept null hypothesis i.e age does not influence customers shopping during 'The Big Billion Days' sale."
   ]
  },
  {
   "cell_type": "code",
   "execution_count": 181,
   "metadata": {},
   "outputs": [
    {
     "name": "stdout",
     "output_type": "stream",
     "text": [
      "HaveyouheardaboutTheBigBillionDays  No  Yes\n",
      "City                                       \n",
      "Metro city                          10   58\n",
      "Non-metro city/ Tier-II/ Tier-III    8   34\n",
      "\n",
      "Chi-squared test for independence\n",
      "\n",
      "Test              Df    Chi-square    P-value\n",
      "--------------  ----  ------------  ---------\n",
      "Pearson            1      0.110732   0.739313\n",
      "Log-likelihood     1      0.109791   0.740382\n",
      "\n"
     ]
    }
   ],
   "source": [
    "#Q3. Does the customer's type of city that they live in affect their awareness of 'The Big Billion Days' sale?\n",
    "#H0: Customer's type of city does not affect their awareness of 'The Big Billion Days' sale.\n",
    "#H1: Customer's type of city affects their awareness of 'The Big Billion Days' sale.\n",
    "ctab = pd.crosstab(df.City,df.HaveyouheardaboutTheBigBillionDays)\n",
    "print(ctab)\n",
    "res = stat()\n",
    "res.chisq(ctab)\n",
    "print(res.summary)\n",
    "#Since p > 0.05, we accept null hypothesis i.e customer's type of city does not affect their awareness of 'The Big Billion Days' sale."
   ]
  },
  {
   "cell_type": "code",
   "execution_count": 182,
   "metadata": {},
   "outputs": [
    {
     "name": "stdout",
     "output_type": "stream",
     "text": [
      "HaveyoushoppedduringTheBigBillionDays  No  Yes\n",
      "City                                          \n",
      "Metro city                             31   37\n",
      "Non-metro city/ Tier-II/ Tier-III      18   24\n",
      "\n",
      "Chi-squared test for independence\n",
      "\n",
      "Test              Df    Chi-square    P-value\n",
      "--------------  ----  ------------  ---------\n",
      "Pearson            1    0.00681654    0.9342\n",
      "Log-likelihood     1    0.00681855    0.93419\n",
      "\n"
     ]
    }
   ],
   "source": [
    "#Q4. Does the customer's type of city that they live in affect their shopping during 'The Big Billion Days' sale?\n",
    "#H0: Customer's type of city does not affect their shopping during 'The Big Billion Days' sale.\n",
    "#H1: Customer's type of city does affect their shopping during 'The Big Billion Days' sale.\n",
    "ctab = pd.crosstab(df.City,df.HaveyoushoppedduringTheBigBillionDays)\n",
    "print(ctab)\n",
    "res = stat()\n",
    "res.chisq(ctab)\n",
    "print(res.summary)\n",
    "#Since p > 0.05, we accept null hypothesis i.e customer's type of city does not affect their shopping during 'The Big Billion Days' sale."
   ]
  },
  {
   "cell_type": "code",
   "execution_count": 183,
   "metadata": {},
   "outputs": [
    {
     "name": "stdout",
     "output_type": "stream",
     "text": [
      "HaveyouheardaboutTheBigBillionDays  No  Yes\n",
      "Profession                                 \n",
      "Homemaker                            3    2\n",
      "Student                              4   50\n",
      "Working                             11   40\n",
      "\n",
      "Chi-squared test for independence\n",
      "\n",
      "Test              Df    Chi-square     P-value\n",
      "--------------  ----  ------------  ----------\n",
      "Pearson            2       11.1311  0.00382756\n",
      "Log-likelihood     2        9.6133  0.00817521\n",
      "\n"
     ]
    }
   ],
   "source": [
    "#Q5. Does the customer's profession affect their awareness of 'The Big Billion Days' sale?\n",
    "#H0: Customer's profession does not affect their awareness of 'The Big Billion Days' sale.\n",
    "#H1: Customer's profession affects their awareness of 'The Big Billion Days' sale.\n",
    "ctab = pd.crosstab(df.Profession,df.HaveyouheardaboutTheBigBillionDays)\n",
    "print(ctab)\n",
    "res = stat()\n",
    "res.chisq(ctab)\n",
    "print(res.summary)\n",
    "#Since p < 0.05, we accept alternative hypothesis i.e customer's profession affects their awareness of 'The Big Billion Days' sale."
   ]
  },
  {
   "cell_type": "code",
   "execution_count": 184,
   "metadata": {},
   "outputs": [
    {
     "name": "stdout",
     "output_type": "stream",
     "text": [
      "HaveyoushoppedduringTheBigBillionDays  No  Yes\n",
      "Profession                                    \n",
      "Homemaker                               2    3\n",
      "Student                                22   32\n",
      "Working                                25   26\n",
      "\n",
      "Chi-squared test for independence\n",
      "\n",
      "Test              Df    Chi-square    P-value\n",
      "--------------  ----  ------------  ---------\n",
      "Pearson            2      0.771551   0.679923\n",
      "Log-likelihood     2      0.771849   0.679822\n",
      "\n"
     ]
    }
   ],
   "source": [
    "#Q6. Does the customer's profession affect their shopping during 'The Big Billion Days' sale?\n",
    "#H0: Customer's profession does not affect their shopping during 'The Big Billion Days' sale.\n",
    "#H1: Customer's profession affects their shopping during 'The Big Billion Days' sale.\n",
    "ctab = pd.crosstab(df.Profession,df.HaveyoushoppedduringTheBigBillionDays)\n",
    "print(ctab)\n",
    "res = stat()\n",
    "res.chisq(ctab)\n",
    "print(res.summary)\n",
    "#Since p > 0.05, we accept null hypothesis i.e customer's profession does not affect their shopping during 'The Big Billion Days' sale."
   ]
  },
  {
   "cell_type": "code",
   "execution_count": 185,
   "metadata": {},
   "outputs": [
    {
     "name": "stdout",
     "output_type": "stream",
     "text": [
      "HaveyouheardaboutTheBigBillionDays  No  Yes\n",
      "HowoftendoyoushopfromFlipkart              \n",
      "Less Often                           8   34\n",
      "Monthly                              5   26\n",
      "Quarterly                            5   25\n",
      "Weekly                               0    7\n",
      "\n",
      "Chi-squared test for independence\n",
      "\n",
      "Test              Df    Chi-square    P-value\n",
      "--------------  ----  ------------  ---------\n",
      "Pearson            3       1.5939    0.660774\n",
      "Log-likelihood     3       2.71705   0.437337\n",
      "\n"
     ]
    }
   ],
   "source": [
    "#Q7. Is there any association between the customers knowing about 'The Big Billion Days' sale and the customer's frequency of shopping?\n",
    "#H0: There is no association between the customers knowing about 'The Big Billion Days' sale and the customer's frequency of shopping.\n",
    "#H1: There is an association between the customers knowing about 'The Big Billion Days' sale and the customer's frequency of shopping.\n",
    "ctab = pd.crosstab(df.HowoftendoyoushopfromFlipkart,df.HaveyouheardaboutTheBigBillionDays)\n",
    "print(ctab)\n",
    "res = stat()\n",
    "res.chisq(ctab)\n",
    "print(res.summary)\n",
    "#Since p > 0.05, we accept null hypothesis i.e there is no association between the customers knowing about 'The Big Billion Days' sale and the customer's frequency of shopping."
   ]
  },
  {
   "cell_type": "code",
   "execution_count": 186,
   "metadata": {},
   "outputs": [
    {
     "name": "stdout",
     "output_type": "stream",
     "text": [
      "WouldyouconsiderjoiningFlipkartPlusMembership  No  Yes\n",
      "Satisfaction                                          \n",
      "1                                               1    0\n",
      "2                                               3    3\n",
      "3                                               7   22\n",
      "4                                              10   26\n",
      "5                                               5   33\n",
      "\n",
      "Chi-squared test for independence\n",
      "\n",
      "Test              Df    Chi-square    P-value\n",
      "--------------  ----  ------------  ---------\n",
      "Pearson            4       8.19893  0.084557\n",
      "Log-likelihood     4       7.80181  0.0991139\n",
      "\n"
     ]
    }
   ],
   "source": [
    "#Q8. Does customer satisfaction during the sale influence in making customers join the Flipkart Plus membership?\n",
    "#H0: Customer satisfaction during the sale does not influence in making customers join the Flipkart Plus membership.\n",
    "#H1: Customer satisfaction during the sale influences in making customers join the Flipkart Plus membership.\n",
    "ctab = pd.crosstab(df.Satisfaction,df.WouldyouconsiderjoiningFlipkartPlusMembership)\n",
    "print(ctab)\n",
    "res = stat()\n",
    "res.chisq(ctab)\n",
    "print(res.summary)\n",
    "#Since p < 0.05, we accept alternative hypothesis i.e customer satisfaction from the products on sale during 'The Big Billion Days' influences in making customers join the Flipkart Plus membership."
   ]
  },
  {
   "cell_type": "code",
   "execution_count": 187,
   "metadata": {},
   "outputs": [
    {
     "name": "stdout",
     "output_type": "stream",
     "text": [
      "WouldyouconsiderjoiningFlipkartPlusMembership  No  Yes\n",
      "HowoftendoyoushopfromFlipkart                         \n",
      "Less Often                                     13   29\n",
      "Monthly                                         4   27\n",
      "Quarterly                                       6   24\n",
      "Weekly                                          3    4\n",
      "\n",
      "Chi-squared test for independence\n",
      "\n",
      "Test              Df    Chi-square    P-value\n",
      "--------------  ----  ------------  ---------\n",
      "Pearson            3       4.87656   0.181063\n",
      "Log-likelihood     3       4.90851   0.17862\n",
      "\n"
     ]
    }
   ],
   "source": [
    "#Q9. Does frequency of shopping on Flipkart influence customers from joining Flipkart Plus Membership?\n",
    "#H0: Frequency of shopping on Flipkart does not influence customers from joining Flipkart Plus Membership?\n",
    "#H1: Frequency of shopping on Flipkart influences customers from joining Flipkart Plus Membership?\n",
    "ctab = pd.crosstab(df.HowoftendoyoushopfromFlipkart,df.WouldyouconsiderjoiningFlipkartPlusMembership)\n",
    "print(ctab)\n",
    "res = stat()\n",
    "res.chisq(ctab)\n",
    "print(res.summary)\n",
    "#Since p > 0.05, we accept null hypothesis i.e frequency of shopping on Flipkart does not influence customers from joining Flipkart Plus Membership."
   ]
  },
  {
   "cell_type": "code",
   "execution_count": 188,
   "metadata": {},
   "outputs": [
    {
     "name": "stdout",
     "output_type": "stream",
     "text": [
      "WouldyouconsiderjoiningFlipkartPlusMembership  No  Yes\n",
      "Profession                                            \n",
      "Homemaker                                       1    4\n",
      "Student                                        12   42\n",
      "Working                                        13   38\n",
      "\n",
      "Chi-squared test for independence\n",
      "\n",
      "Test              Df    Chi-square    P-value\n",
      "--------------  ----  ------------  ---------\n",
      "Pearson            2      0.193565   0.907754\n",
      "Log-likelihood     2      0.194161   0.907483\n",
      "\n"
     ]
    }
   ],
   "source": [
    "#Q10. Does customer profession influence in joining Flipkart Plus Membership to get additional benefits?\n",
    "#H0: Profession does not influence in joining Flipkart Plus Membership.\n",
    "#H1: Profession influences in joining Flipkart Plus Membership.\n",
    "ctab = pd.crosstab(df.Profession,df.WouldyouconsiderjoiningFlipkartPlusMembership)\n",
    "print(ctab)\n",
    "res = stat()\n",
    "res.chisq(ctab)\n",
    "print(res.summary)\n",
    "#Since p > 0.05, we accept null hypothesis i.e profession does not influence customers joining in Flipkart Plus Membership."
   ]
  },
  {
   "cell_type": "code",
   "execution_count": 189,
   "metadata": {},
   "outputs": [
    {
     "name": "stdout",
     "output_type": "stream",
     "text": [
      "HaveyoushoppedduringTheBigBillionDays  No  Yes\n",
      "FlipkartSatisfaction                          \n",
      "Neutral                                11    5\n",
      "Satisfied                              24   30\n",
      "Unsatisfied                             2    3\n",
      "Very Satisfied                          9   23\n",
      "Very Unsatisfied                        3    0\n",
      "\n",
      "Chi-squared test for independence\n",
      "\n",
      "Test              Df    Chi-square    P-value\n",
      "--------------  ----  ------------  ---------\n",
      "Pearson            4       11.0642  0.0258513\n",
      "Log-likelihood     4       12.3596  0.0148681\n",
      "\n"
     ]
    }
   ],
   "source": [
    "#Q11. Does customer's satisfaction to shop on Flipkart compared to other e-commerce companies influence whether the customer has shopped during 'The Big Billion Days'?\n",
    "#H0: Customer's satisfaction to shop on Flipkart does not influence whether the customer has shopped during 'The Big Billion Days'.\n",
    "#H1: Customer's satisfaction to shop on Flipkart influences whether the customer has shopped during 'The Big Billion Days'.\n",
    "ctab = pd.crosstab(df.FlipkartSatisfaction,df.HaveyoushoppedduringTheBigBillionDays)\n",
    "print(ctab)\n",
    "res = stat()\n",
    "res.chisq(ctab)\n",
    "print(res.summary)\n",
    "#Since p < 0.05, we accept alternative hypothesis i.e customer's satisfaction to shop on Flipkart compared to other e-commerce companies influences whether the customer has shopped during 'The Big Billion Days'."
   ]
  },
  {
   "cell_type": "code",
   "execution_count": 190,
   "metadata": {},
   "outputs": [
    {
     "name": "stdout",
     "output_type": "stream",
     "text": [
      "Satisfaction          1  2   3   4   5\n",
      "FlipkartSatisfaction                  \n",
      "Neutral               0  1   9   5   1\n",
      "Satisfied             0  2  11  23  18\n",
      "Unsatisfied           1  2   2   0   0\n",
      "Very Satisfied        0  1   4   8  19\n",
      "Very Unsatisfied      0  0   3   0   0\n",
      "\n",
      "Chi-squared test for independence\n",
      "\n",
      "Test              Df    Chi-square      P-value\n",
      "--------------  ----  ------------  -----------\n",
      "Pearson           16       64.7799  8.03769e-08\n",
      "Log-likelihood    16       46.649   7.72291e-05\n",
      "\n"
     ]
    }
   ],
   "source": [
    "#Q12. Does customer satisfaction with the products on sale during 'The Big Billion Days' influence customer's satisfaction to shop on Flipkart compared to other e-commerce companies?\n",
    "#H0: Customer's satisfaction with the products on sale during 'The Big Billion Days' does not influence customer's satisfaction to shop on Flipkart.\n",
    "#H1: Customer's satisfaction with the products on sale during 'The Big Billion Days' influences customer's satisfaction to shop on Flipkart.\n",
    "ctab = pd.crosstab(df.FlipkartSatisfaction,df.Satisfaction)\n",
    "print(ctab)\n",
    "res = stat()\n",
    "res.chisq(ctab)\n",
    "print(res.summary)\n",
    "#Since p < 0.05, we accept alternative hypothesis i.e customer's satisfaction with the products on sale during 'The Big Billion Days' influences customer's satisfaction to shop on Flipkart compared to other e-commerce companies."
   ]
  },
  {
   "cell_type": "code",
   "execution_count": 191,
   "metadata": {},
   "outputs": [
    {
     "name": "stdout",
     "output_type": "stream",
     "text": [
      "HaveyoushoppedduringTheBigBillionDays  No  Yes\n",
      "QualityScale                                  \n",
      "1                                       3    1\n",
      "2                                       0    1\n",
      "3                                       4   11\n",
      "4                                      26   21\n",
      "5                                      16   27\n",
      "\n",
      "Chi-squared test for independence\n",
      "\n",
      "Test              Df    Chi-square    P-value\n",
      "--------------  ----  ------------  ---------\n",
      "Pearson            4       7.39141  0.116594\n",
      "Log-likelihood     4       7.89645  0.0954458\n",
      "\n"
     ]
    }
   ],
   "source": [
    "#Q13. Hypothesis testing\n",
    "#If the customer did or did not shop during the Big Billion Days sale, does it influence their preference of choosing quality as a factor before purchasing a product during  the sale?\n",
    "#H0: Customer shopping status during the Big Billion Days sale does not influence their preference of choosing quality as a factor before purchasing a product during sale.\n",
    "#H1: Customer shopping status during the Big Billion Days sale does influence their preference of choosing quality as a factor before purchasing a product during sale.\n",
    "ctab = pd.crosstab(df.QualityScale,df.HaveyoushoppedduringTheBigBillionDays)\n",
    "print(ctab)\n",
    "res = stat()\n",
    "res.chisq(ctab)\n",
    "print(res.summary)\n",
    "#Since p > 0.05, we accept alternative hypothesis i.e customer shopping status during the Big Billion Days sale does not influence their preference of choosing quality as a factor before purchasing a product during sale.\n"
   ]
  },
  {
   "cell_type": "code",
   "execution_count": 192,
   "metadata": {},
   "outputs": [
    {
     "name": "stdout",
     "output_type": "stream",
     "text": [
      "HaveyoushoppedduringTheBigBillionDays  No  Yes\n",
      "BrandScale                                    \n",
      "1                                       2    2\n",
      "2                                       4    3\n",
      "3                                       7   17\n",
      "4                                      19   13\n",
      "5                                      17   26\n",
      "\n",
      "Chi-squared test for independence\n",
      "\n",
      "Test              Df    Chi-square    P-value\n",
      "--------------  ----  ------------  ---------\n",
      "Pearson            4       6.08153   0.193142\n",
      "Log-likelihood     4       6.15753   0.187689\n",
      "\n"
     ]
    }
   ],
   "source": [
    "#Q14. Hypothesis testing\n",
    "#If the customer did or did not shop during the Big Billion Days sale, does it influence their preference of choosing brand as a factor before purchasing a product during  the sale?\n",
    "#H0: Customer shopping status during the Big Billion Days sale does not influence their preference of choosing brand as a factor before purchasing a product during sale.\n",
    "#H1: Customer shopping status during the Big Billion Days sale does influence their preference of choosing brand as a factor before purchasing a product during sale.\n",
    "ctab = pd.crosstab(df.BrandScale,df.HaveyoushoppedduringTheBigBillionDays)\n",
    "print(ctab)\n",
    "res = stat()\n",
    "res.chisq(ctab)\n",
    "print(res.summary)\n",
    "#Since p > 0.05, we accept null hypothesis i.e customer shopping status during the Big Billion Days sale does not influence their preference of choosing brand as a factor before purchasing a product during sale."
   ]
  },
  {
   "cell_type": "code",
   "execution_count": 193,
   "metadata": {},
   "outputs": [
    {
     "name": "stdout",
     "output_type": "stream",
     "text": [
      "HaveyoushoppedduringTheBigBillionDays  No  Yes\n",
      "PriceScale                                    \n",
      "1                                       2    1\n",
      "2                                       1    1\n",
      "3                                      11   12\n",
      "4                                      13   25\n",
      "5                                      22   22\n",
      "\n",
      "Chi-squared test for independence\n",
      "\n",
      "Test              Df    Chi-square    P-value\n",
      "--------------  ----  ------------  ---------\n",
      "Pearson            4       2.89161   0.576125\n",
      "Log-likelihood     4       2.9267    0.570166\n",
      "\n"
     ]
    }
   ],
   "source": [
    "#Q15. Hypothesis testing\n",
    "#If the customer did or did not shop during the Big Billion Days sale, does it influence their preference of choosing price as a factor before purchasing a product during  the sale?\n",
    "#H0: Customer shopping status during the Big Billion Days sale does not influence their preference of choosing price as a factor before purchasing a product during sale.\n",
    "#H1: Customer shopping status during the Big Billion Days sale does influence their preference of choosing price as a factor before purchasing a product during sale.\n",
    "ctab = pd.crosstab(df.PriceScale,df.HaveyoushoppedduringTheBigBillionDays)\n",
    "print(ctab)\n",
    "res = stat()\n",
    "res.chisq(ctab)\n",
    "print(res.summary)\n",
    "#Since p > 0.05, we accept null hypothesis i.e customer shopping status during the Big Billion Days sale does not influence their preference of choosing price as a factor before purchasing a product during sale."
   ]
  },
  {
   "cell_type": "code",
   "execution_count": 194,
   "metadata": {},
   "outputs": [
    {
     "name": "stdout",
     "output_type": "stream",
     "text": [
      "HaveyoushoppedduringTheBigBillionDays  No  Yes\n",
      "ReviewScale                                   \n",
      "1                                       3    2\n",
      "2                                       4    6\n",
      "3                                      13    7\n",
      "4                                      10   26\n",
      "5                                      19   20\n",
      "\n",
      "Chi-squared test for independence\n",
      "\n",
      "Test              Df    Chi-square    P-value\n",
      "--------------  ----  ------------  ---------\n",
      "Pearson            4       8.32676  0.0803159\n",
      "Log-likelihood     4       8.51199  0.0745247\n",
      "\n"
     ]
    }
   ],
   "source": [
    "#Q16. Hypothesis testing\n",
    "#If the customer did or did not shop during the Big Billion Days sale, does it influence their preference of choosing reviews as a factor before purchasing a product during  the sale?\n",
    "#H0: Customer shopping status during the Big Billion Days sale does not influence their preference of choosing reviews as a factor before purchasing a product during sale.\n",
    "#H1: Customer shopping status during the Big Billion Days sale does influence their preference of choosing reviews as a factor before purchasing a product during sale.\n",
    "ctab = pd.crosstab(df.ReviewScale,df.HaveyoushoppedduringTheBigBillionDays)\n",
    "print(ctab)\n",
    "res = stat()\n",
    "res.chisq(ctab)\n",
    "print(res.summary)\n",
    "#Since p > 0.05, we accept null hypothesis i.e customer shopping status during the Big Billion Days sale does not influence their preference of choosing reviews as a factor before purchasing a product during sale."
   ]
  },
  {
   "cell_type": "code",
   "execution_count": 195,
   "metadata": {},
   "outputs": [
    {
     "name": "stdout",
     "output_type": "stream",
     "text": [
      "HaveyoushoppedduringTheBigBillionDays  No  Yes\n",
      "DiscountPercentageScale                       \n",
      "1                                       2    2\n",
      "2                                       5    5\n",
      "3                                      10   11\n",
      "4                                      13   19\n",
      "5                                      19   24\n",
      "\n",
      "Chi-squared test for independence\n",
      "\n",
      "Test              Df    Chi-square    P-value\n",
      "--------------  ----  ------------  ---------\n",
      "Pearson            4      0.450282   0.978157\n",
      "Log-likelihood     4      0.450336   0.978152\n",
      "\n"
     ]
    }
   ],
   "source": [
    "#Q17. Hypothesis testing\n",
    "#If the customer did or did not shop during the Big Billion Days sale, does it influence their preference of choosing discount percentage as a factor before purchasing a product during  the sale?\n",
    "#H0: Customer shopping status during the Big Billion Days sale does not influence their preference of choosing discount percentage as a factor before purchasing a product during sale.\n",
    "#H1: Customer shopping status during the Big Billion Days sale does influence their preference of choosing discount percentage as a factor before purchasing a product during sale.\n",
    "ctab = pd.crosstab(df.DiscountPercentageScale,df.HaveyoushoppedduringTheBigBillionDays)\n",
    "print(ctab)\n",
    "res = stat()\n",
    "res.chisq(ctab)\n",
    "print(res.summary)\n",
    "#Since p > 0.05, we accept null hypothesis i.e customer shopping status during the Big Billion Days sale does not influence their preference of choosing discount percentage as a factor before purchasing a product during sale."
   ]
  },
  {
   "cell_type": "markdown",
   "metadata": {},
   "source": [
    "<h3>Predictive Modelling - Logistic Regression Model</h3>"
   ]
  },
  {
   "cell_type": "code",
   "execution_count": 196,
   "metadata": {},
   "outputs": [],
   "source": [
    "#Logistic Regression is used when the dependent variable(target) is categorical, hence the predicted output will be 0 or 1.\n",
    "#Importing Logistic Regression model libaries and metrics\n",
    "from sklearn.linear_model import LogisticRegression\n",
    "from sklearn.model_selection import train_test_split\n",
    "from sklearn import preprocessing\n",
    "from sklearn.metrics import confusion_matrix,classification_report,accuracy_score,recall_score,precision_score,f1_score\n",
    "from sklearn.metrics import roc_auc_score\n",
    "from sklearn.metrics import roc_curve\n",
    "import matplotlib.pyplot as plt \n"
   ]
  },
  {
   "cell_type": "code",
   "execution_count": 197,
   "metadata": {},
   "outputs": [],
   "source": [
    "#Using Logistic Regression to determine if the customers have Flipkart Plus Membership.\n",
    "#Preprocessing the data and converting categorical data to labels\n",
    "df = df.replace(('Yes', 'No'), (1, 0)) #Recoding Yes and No to 0 and 1.\n",
    "le = preprocessing.LabelEncoder()\n",
    "df['Agegrouprange']= le.fit_transform(df['Agegrouprange'])\n",
    "df['City']= le.fit_transform(df['City'])\n",
    "df['HowoftendoyoushopfromFlipkart']= le.fit_transform(df['HowoftendoyoushopfromFlipkart'])\n",
    "df['Profession']= le.fit_transform(df['Profession'])\n",
    "df['AmazonSatisfaction']= le.fit_transform(df['AmazonSatisfaction'])\n",
    "df['FlipkartSatisfaction']= le.fit_transform(df['FlipkartSatisfaction'])\n",
    "df['AlibabaSatisfaction']= le.fit_transform(df['AlibabaSatisfaction'])\n",
    "df['SnapdealSatisfaction']= le.fit_transform(df['SnapdealSatisfaction'])\n",
    "df['ShopcluesSatisfaction']= le.fit_transform(df['ShopcluesSatisfaction'])\n",
    "df['WouldyouconsiderjoiningFlipkartPlusMembership']= le.fit_transform(df['WouldyouconsiderjoiningFlipkartPlusMembership'])\n"
   ]
  },
  {
   "cell_type": "code",
   "execution_count": 198,
   "metadata": {},
   "outputs": [],
   "source": [
    "#Independent variables\n",
    "x = df[['HaveyouheardaboutTheBigBillionDays','HaveyoushoppedduringTheBigBillionDays','Agegrouprange','City','Profession','HowoftendoyoushopfromFlipkart','Satisfaction','WouldyouconsiderjoiningFlipkartPlusMembership',\n",
    "'AmazonSatisfaction','FlipkartSatisfaction','SnapdealSatisfaction',\t'AlibabaSatisfaction','ShopcluesSatisfaction','QualityScale','PriceScale','BrandScale','ReviewScale','DiscountPercentageScale']]\n",
    "#Dependent variable\n",
    "y = df['DoyouhaveFlipkartPlusMembership']"
   ]
  },
  {
   "cell_type": "code",
   "execution_count": 199,
   "metadata": {},
   "outputs": [],
   "source": [
    "x_train, x_test, y_train, y_test = train_test_split(x, y, test_size=0.20, random_state=42) #80% train data and 20% test data split"
   ]
  },
  {
   "cell_type": "code",
   "execution_count": 200,
   "metadata": {},
   "outputs": [
    {
     "data": {
      "text/plain": [
       "LogisticRegression()"
      ]
     },
     "execution_count": 200,
     "metadata": {},
     "output_type": "execute_result"
    }
   ],
   "source": [
    "#Fitting the train and test data into the LogisticRegression function\n",
    "lr = LogisticRegression()\n",
    "lr.fit(x_train,y_train)"
   ]
  },
  {
   "cell_type": "code",
   "execution_count": 201,
   "metadata": {},
   "outputs": [],
   "source": [
    "#Predicting if customers have shopped during 'The Big Billion Days' sale\n",
    "predict = lr.predict(x_test)"
   ]
  },
  {
   "cell_type": "code",
   "execution_count": 202,
   "metadata": {},
   "outputs": [
    {
     "data": {
      "text/html": [
       "<div>\n",
       "<style scoped>\n",
       "    .dataframe tbody tr th:only-of-type {\n",
       "        vertical-align: middle;\n",
       "    }\n",
       "\n",
       "    .dataframe tbody tr th {\n",
       "        vertical-align: top;\n",
       "    }\n",
       "\n",
       "    .dataframe thead th {\n",
       "        text-align: right;\n",
       "    }\n",
       "</style>\n",
       "<table border=\"1\" class=\"dataframe\">\n",
       "  <thead>\n",
       "    <tr style=\"text-align: right;\">\n",
       "      <th></th>\n",
       "      <th>Predicted No</th>\n",
       "      <th>Predicted Yes</th>\n",
       "    </tr>\n",
       "  </thead>\n",
       "  <tbody>\n",
       "    <tr>\n",
       "      <th>Actual No</th>\n",
       "      <td>14</td>\n",
       "      <td>1</td>\n",
       "    </tr>\n",
       "    <tr>\n",
       "      <th>Actual Yes</th>\n",
       "      <td>2</td>\n",
       "      <td>5</td>\n",
       "    </tr>\n",
       "  </tbody>\n",
       "</table>\n",
       "</div>"
      ],
      "text/plain": [
       "            Predicted No  Predicted Yes\n",
       "Actual No             14              1\n",
       "Actual Yes             2              5"
      ]
     },
     "execution_count": 202,
     "metadata": {},
     "output_type": "execute_result"
    }
   ],
   "source": [
    "#Creating confusion matrix for summary of prediction results on this classification problem\n",
    "pd.DataFrame(confusion_matrix(y_test,predict),columns=['Predicted No','Predicted Yes'],index=['Actual No','Actual Yes']) #Predictions against test data"
   ]
  },
  {
   "cell_type": "code",
   "execution_count": 203,
   "metadata": {},
   "outputs": [
    {
     "name": "stdout",
     "output_type": "stream",
     "text": [
      "              precision    recall  f1-score   support\n",
      "\n",
      "           0       0.88      0.93      0.90        15\n",
      "           1       0.83      0.71      0.77         7\n",
      "\n",
      "    accuracy                           0.86        22\n",
      "   macro avg       0.85      0.82      0.84        22\n",
      "weighted avg       0.86      0.86      0.86        22\n",
      "\n"
     ]
    }
   ],
   "source": [
    "#Checking accuracy of model\n",
    "print(classification_report(y_test,predict)) #Accuracy -> 86% accuracy\n"
   ]
  },
  {
   "cell_type": "code",
   "execution_count": 204,
   "metadata": {},
   "outputs": [
    {
     "name": "stdout",
     "output_type": "stream",
     "text": [
      "86%\n"
     ]
    }
   ],
   "source": [
    "#Model accuracy\n",
    "accuracy = accuracy_score(y_test,predict)\n",
    "accuracy_percentage = \"{:.0%}\".format(accuracy)\n",
    "print(accuracy_percentage)\n",
    "#Hence, the logistic regression model to determine if customers has Flipkart Plus Membership is 86% accurate."
   ]
  },
  {
   "cell_type": "code",
   "execution_count": 205,
   "metadata": {},
   "outputs": [
    {
     "data": {
      "image/png": "[encoded data removed]",
      "text/plain": [
       "<Figure size 432x288 with 1 Axes>"
      ]
     },
     "metadata": {
      "needs_background": "light"
     },
     "output_type": "display_data"
    }
   ],
   "source": [
    "#ROC Curve - The dotted line represents the ROC curve of a random classifier; a good classifier stays as far away from that line as possible.\n",
    "logit_roc_auc = roc_auc_score(y_test, lr.predict(x_test))\n",
    "fpr, tpr, thresholds = roc_curve(y_test, lr.predict_proba(x_test)[:,1])\n",
    "plt.figure()\n",
    "plt.plot(fpr, tpr, label='Logistic Regression (area = %0.2f)' % logit_roc_auc)\n",
    "plt.plot([0, 1], [0, 1],'r--')\n",
    "plt.xlim([0.0, 1.0])\n",
    "plt.ylim([0.0, 1.05])\n",
    "plt.xlabel('False Positive Rate')\n",
    "plt.ylabel('True Positive Rate')\n",
    "plt.title('Receiver operating characteristic')\n",
    "plt.legend(loc=\"lower right\")\n",
    "plt.savefig('Log_ROC')\n",
    "plt.show()"
   ]
  }
 ],
 "metadata": {
  "interpreter": {
   "hash": "b90d6b7f662fff397f3e23e27bbffaa62ea71756791edc9a6d812b31905f1de1"
  },
  "kernelspec": {
   "display_name": "Python 3.10.2 64-bit",
   "language": "python",
   "name": "python3"
  },
  "language_info": {
   "codemirror_mode": {
    "name": "ipython",
    "version": 3
   },
   "file_extension": ".py",
   "mimetype": "text/x-python",
   "name": "python",
   "nbconvert_exporter": "python",
   "pygments_lexer": "ipython3",
   "version": "3.10.2"
  },
  "orig_nbformat": 4
 },
 "nbformat": 4,
 "nbformat_minor": 2
}
